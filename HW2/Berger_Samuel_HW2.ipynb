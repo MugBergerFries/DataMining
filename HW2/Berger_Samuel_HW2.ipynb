{
 "cells": [
  {
   "cell_type": "markdown",
   "metadata": {},
   "source": []
  },
  {
   "cell_type": "markdown",
   "metadata": {},
   "source": [
    "# Homework 2\n",
    "***\n",
    "**Name**: Sam Berger \n",
    "***\n",
    "\n",
    "This assignment is due on Moodle by **9:30am on Thrusday September 20th**. Submit only this Jupyter notebook to Moodle.  Do not compress it using tar, rar, zip, etc. Your solutions to analysis questions should be done in Markdown directly below the associated question.  Remember that you are encouraged to discuss the problems with your instructors and classmates, but **you must write all code and solutions on your own**."
   ]
  },
  {
   "cell_type": "markdown",
   "metadata": {},
   "source": [
    "The rules to be followed for the assignment are:\n",
    "\n",
    "- Do **NOT** load or use any Python packages that are not available in Anaconda 3.6. \n",
    "- Some problems with code may be autograded.  If we provide a function or class API **do not** change it.\n",
    "- Do not change the location of the data or data directory.  Use only relative paths to access the data. "
   ]
  },
  {
   "cell_type": "code",
   "execution_count": 1,
   "metadata": {},
   "outputs": [],
   "source": [
    "import pandas as pd\n",
    "import numpy as np\n",
    "import pickle\n",
    "from pathlib import Path\n",
    "import math"
   ]
  },
  {
   "cell_type": "markdown",
   "metadata": {},
   "source": [
    "### [50 points] Problem 1\n",
    "***\n",
    "\n",
    "There are two functions that need to be completed:\n",
    "\n",
    "#### normalization(fname, attr, normType)\n",
    "\n",
    "- This function takes in the location of the data file, the attribute that has to be normalised (one of the values from 'open','high','low','close','volume') and the type of normalization to be performed('min_max' or 'z_score')\n",
    "\n",
    "- Based on the normalisation type that is mentioned, you will have to apply the appropriate formula and return a dictionary where key = original value in the dataset, value = normalised value\n",
    "\n",
    "#### correlation (fname1, attr1, fname2, attr2)\n",
    "\n",
    "- This function takes in the location of the first data file, the attribute that has to be used in the first file, the location of the second data file and the attribute that has to be used in the second file.\n",
    "\n",
    "- This function has to calculate the correlation coefficient between the two attributes mentioned in the two files.\n",
    "\n",
    "Note:\n",
    "- Download both the data files and store it in the location \"data/dataset_1.csv\" and \"data/dataset_2.csv\" . Please maintain this as it would be necessary while grading.\n",
    "- Do not change the variable names of the returned values.\n",
    "- If the test case fails, one way to debug is to see the output of the testing data and comparing it to your output.\n",
    "- Initially the test case will be failed as there is no code in the below two functions."
   ]
  },
  {
   "cell_type": "code",
   "execution_count": 2,
   "metadata": {},
   "outputs": [],
   "source": [
    "def normalization (fname, attr, normType):\n",
    "    '''\n",
    "    Input Parameters:\n",
    "        fname: Name of the csv file contiaining historical quotes\n",
    "        attr: The attribute to be normalized \n",
    "        normType: The type of normalization \n",
    "    Output:\n",
    "        a dictionary where each key is the original column value and each value is the normalised column value. \n",
    "    '''\n",
    "    \n",
    "    result = {}\n",
    "    pdin = pd.read_csv(fname)\n",
    "    pdcol = pdin.loc[:,attr]\n",
    "    numObj = pdcol.size\n",
    "    minValue = pdcol.min()\n",
    "    maxValue = pdcol.max()\n",
    "    diff = maxValue-minValue\n",
    "    stdev = pdcol.std()\n",
    "    mean = pdcol.mean()\n",
    "    if normType == \"min_max\":\n",
    "        for i in range(numObj):\n",
    "            result[pdcol[i]] = (pdcol[i] - minValue) / diff\n",
    "    else:\n",
    "        for i in range(numObj):\n",
    "            result[pdcol[i]] = (pdcol[i] - mean) / stdev\n",
    "    \n",
    "    \n",
    "    return result"
   ]
  },
  {
   "cell_type": "code",
   "execution_count": 3,
   "metadata": {},
   "outputs": [],
   "source": [
    "def correlation (fname1, attr1, fname2, attr2):\n",
    "    '''\n",
    "    Input Parameters:\n",
    "        fname1: name of the first csv file containing historical quotes\n",
    "        attr1: The attribute to consider in the first csv file (fname1)\n",
    "        fname2: name of the second csv file containing historical quotes\n",
    "        attr2: The attribute to consider in the second csv file (fname2)\n",
    "        \n",
    "    Output:\n",
    "        correlation coefficient between attr1 in fname1 and attr2 in fname2\n",
    "    '''\n",
    "    \n",
    "    pdin1 = pd.read_csv(fname1)\n",
    "    pdin2 = pd.read_csv(fname2)\n",
    "    pdcol1 = pdin1.loc[:,attr1]\n",
    "    pdcol2 = pdin2.loc[:,attr2]\n",
    "    correlation_coefficient = pdcol1.corr(pdcol2)\n",
    "    \n",
    "    #TODO: Write code given the Input / Output Paramters.\n",
    "    \n",
    "    return correlation_coefficient"
   ]
  },
  {
   "cell_type": "code",
   "execution_count": 4,
   "metadata": {},
   "outputs": [
    {
     "name": "stderr",
     "output_type": "stream",
     "text": [
      "..\n",
      "----------------------------------------------------------------------\n",
      "Ran 2 tests in 0.074s\n",
      "\n",
      "OK\n"
     ]
    },
    {
     "data": {
      "text/plain": [
       "<unittest.runner.TextTestResult run=2 errors=0 failures=0>"
      ]
     },
     "execution_count": 4,
     "metadata": {},
     "output_type": "execute_result"
    }
   ],
   "source": [
    "import unittest\n",
    "\n",
    "class TestKnn(unittest.TestCase):\n",
    "    def setUp(self):\n",
    "        self.loc1 = \"data/test1.csv\"\n",
    "        self.loc2 = \"data/test2.csv\"\n",
    "        file = open('data/testing_normalization', 'rb')\n",
    "        self.data_normalization = pickle.load(file)\n",
    "        file.close()\n",
    "        file = open('data/testing_correlation', 'rb')\n",
    "        self.data_correlation = pickle.load(file)\n",
    "        file.close()\n",
    "        \n",
    "    def test0(self):\n",
    "        \"\"\"\n",
    "        Test the label counter \n",
    "        \"\"\"\n",
    "        result = normalization(self.loc2,\"open\",\"min_max\")\n",
    "        for key,value in self.data_normalization.items():\n",
    "            self.assertAlmostEqual(result[key],value, places = 1)\n",
    "            \n",
    "    def test1(self):\n",
    "        \"\"\"\n",
    "        Test the label counter \n",
    "        \"\"\"\n",
    "        result = correlation(self.loc1,\"close\",self.loc2,\"close\")\n",
    "        self.assertAlmostEqual(result,self.data_correlation, places = 1)\n",
    "   \n",
    "tests = TestKnn()\n",
    "tests_to_run = unittest.TestLoader().loadTestsFromModule(tests)\n",
    "unittest.TextTestRunner().run(tests_to_run)"
   ]
  },
  {
   "cell_type": "markdown",
   "metadata": {},
   "source": [
    "### [50 points] Problem 2\n",
    "***\n",
    "\n",
    "There are 4 functions that need to be completed:\n",
    "\n",
    "1. For each of the graphs, the input function parameters and the expected output has been mentioned below.\n",
    "\n",
    "Note:\n",
    "- Make sure the dataset you are using is the one mentioned in the problem statement in moodle. The link has been provided.\n",
    "- After defining your functions. Create another block to call these functions by passing the attributes mentioned in moodle."
   ]
  },
  {
   "cell_type": "code",
   "execution_count": 5,
   "metadata": {},
   "outputs": [],
   "source": [
    "import matplotlib\n",
    "import matplotlib.pyplot as plt\n",
    "import pandas as pd\n",
    "import numpy as np\n",
    "# Plot size to 14\" x 7\"\n",
    "matplotlib.rc('figure', figsize = (14, 7))\n",
    "# Font size to 14\n",
    "matplotlib.rc('font', size = 14)\n",
    "# Do not display top and right frame lines\n",
    "matplotlib.rc('axes.spines', top = False, right = False)\n",
    "# Remove grid lines\n",
    "matplotlib.rc('axes', grid = False)\n",
    "# Set backgound color to white\n",
    "matplotlib.rc('axes', facecolor = 'white')"
   ]
  },
  {
   "cell_type": "code",
   "execution_count": 6,
   "metadata": {},
   "outputs": [],
   "source": [
    "def temporal_graph(x_data,y_data,xlabel,ylabel,title):\n",
    "    '''Input : x_data and y_data are the lists containing the data points for x and y axis\n",
    "    xlabel and ylabel are the labels that should be given to the corresponding axes\n",
    "    title contains the title of the graph\n",
    "    \n",
    "    Output : A temporal graph displayed'''\n",
    "    plt.xlabel(xlabel)\n",
    "    plt.ylabel(ylabel)\n",
    "    plt.title(title)\n",
    "    y_data=np.array(y_data)\n",
    "    plt.plot(x_data, y_data[:,0], c='blue')\n",
    "    plt.plot(x_data, y_data[:,1], c='green')\n",
    "    plt.show()"
   ]
  },
  {
   "cell_type": "code",
   "execution_count": 7,
   "metadata": {},
   "outputs": [],
   "source": [
    "def boxplot(x_data,y_data, base_color, median_color, x_label, y_label, title):\n",
    "    '''Input : x_data and y_data are the lists containing the data points for x and y axis\n",
    "    base_color and median_color can be used to set colors in the graph.\n",
    "    xlabel and ylabel are the labels that should be given to the corresponding axes\n",
    "    title contains the title of the graph.\n",
    "    \n",
    "    Output : A boxplot displayed'''\n",
    "    data = [x_data, y_data]\n",
    "    fig1, ax1 =  plt.subplots()\n",
    "    ax1.set_title(title)\n",
    "    bp = ax1.boxplot(data, patch_artist=True)\n",
    "    for box in bp['boxes']:\n",
    "        box.set(color=median_color)\n",
    "        box.set_facecolor(base_color)\n",
    "    plt.show()"
   ]
  },
  {
   "cell_type": "code",
   "execution_count": 8,
   "metadata": {},
   "outputs": [],
   "source": [
    "def histogram(data, x_label, y_label, title):\n",
    "    '''Input : data is the list containing the data points for histogram buckets\n",
    "    xlabel and ylabel are the labels that should be given to the corresponding axes\n",
    "    title contains the title of the graph\n",
    "    \n",
    "    Output : A histogram displayed'''\n",
    "    plt.xlabel(x_label)\n",
    "    plt.ylabel(y_label)\n",
    "    plt.title(title)\n",
    "    n, bins, patches = plt.hist(data, 10)\n",
    "    plt.show()"
   ]
  },
  {
   "cell_type": "code",
   "execution_count": 9,
   "metadata": {},
   "outputs": [],
   "source": [
    "def amzn_new_plot(open, close, title):\n",
    "    '''Define this function as you would seem fit to display the plot that interests you using\n",
    "    the same dataset. Define your function parameters and display the resulting plots'''\n",
    "    data = np.subtract(close, open)\n",
    "    fig1, ax1 = plt.subplots()\n",
    "    ax1.set_title(title)\n",
    "    bp = ax1.boxplot(data, patch_artist=True)\n",
    "    ax1.yaxis.grid(True, linestyle='-', which='major', color='lightgrey', alpha=0.5)\n",
    "    for box in bp['boxes']:\n",
    "        box.set(color='magenta')\n",
    "        box.set_facecolor('blue')\n",
    "    plt.show()"
   ]
  },
  {
   "cell_type": "code",
   "execution_count": null,
   "metadata": {},
   "outputs": [],
   "source": [
    "pdin = pd.read_csv('data/AMZN-5Y-HistoricalQuotes.csv')\n",
    "date = pdin.loc[:, 'date']\n",
    "close = pdin.loc[:, 'close']\n",
    "volume = pdin.loc[:, 'volume']\n",
    "opencol = pdin.loc[:, 'open']\n",
    "high = pdin.loc[:, 'high']\n",
    "low = pdin.loc[:, 'low']\n",
    "tempdata = [list(i) for i in zip(opencol, close)]\n",
    "temporal_graph(date, tempdata, \"date\", \"open/close value\", \"open/close vs date\")\n",
    "boxplot(high, low, \"aqua\", \"blue\", \"high\", \"low\", \"high and low box plot\")\n",
    "histogram(volume, \"volume\", \"count\", \"count per volume histogram\")\n",
    "amzn_new_plot(opencol, close, \"Change in stock value from open to close\")\n"
   ]
  },
  {
   "cell_type": "code",
   "execution_count": null,
   "metadata": {},
   "outputs": [],
   "source": []
  }
 ],
 "metadata": {
  "kernelspec": {
   "display_name": "Python 3",
   "language": "python",
   "name": "python3"
  },
  "language_info": {
   "codemirror_mode": {
    "name": "ipython",
    "version": 3
   },
   "file_extension": ".py",
   "mimetype": "text/x-python",
   "name": "python",
   "nbconvert_exporter": "python",
   "pygments_lexer": "ipython3",
   "version": "3.6.5"
  }
 },
 "nbformat": 4,
 "nbformat_minor": 2
}
